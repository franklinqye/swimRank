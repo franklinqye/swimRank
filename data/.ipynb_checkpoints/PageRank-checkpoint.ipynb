{
 "cells": [
  {
   "cell_type": "markdown",
   "metadata": {},
   "source": [
    "# PageRank\n",
    "\n",
    "Albert Tang, Robert Hou, Vedaad Shakib, Franklin Ye"
   ]
  },
  {
   "cell_type": "code",
   "execution_count": 1,
   "metadata": {},
   "outputs": [
    {
     "name": "stdout",
     "output_type": "stream",
     "text": [
      "360\n"
     ]
    }
   ],
   "source": [
    "import numpy as np\n",
    "from Meet import Meet\n",
    "from create_dictionary import *\n",
    "\n",
    "# Importing dictionary\n",
    "data = main()"
   ]
  },
  {
   "cell_type": "markdown",
   "metadata": {},
   "source": [
    "Here is the PageRank algorithm.\n",
    "\n",
    "There is one modification. P is our transition matrix. Our in class notation had $P_{i, j}$ = edge from $i$ to $j$, with our invariant distribution $\\pi$ being $\\pi P = \\pi$. $\\pi$ is a row vector, but numpy handles right eigenvectors, and eigenvectors are column vectors.\n",
    "\n",
    "Oh no. What do I do???\n",
    "\n",
    "Fret not. If we take the transpose of both sides, we'll get $P^{T} \\pi^{T} = \\pi^{T}$, which corresponds to an eigenvalue of 1."
   ]
  },
  {
   "cell_type": "code",
   "execution_count": 13,
   "metadata": {
    "collapsed": true
   },
   "outputs": [],
   "source": [
    "def PageRank(data, weight_dict):\n",
    "    \"\"\" This is our pagerank algorithm.\n",
    "    \n",
    "    Inputs:\n",
    "        data: a dictionary --\n",
    "                key: name\n",
    "                value: list of Meet objects\n",
    "        weight_dict: a dictionary --\n",
    "                key: competition name\n",
    "                value: weight of an edge corresponding to that competition\n",
    "                \n",
    "    Returns:\n",
    "        The invariant distribution.\n",
    "                \n",
    "    \"\"\"\n",
    "    P = np.zeros([len(data), len(data)])\n",
    "    swimmer_indices = {}\n",
    "    i = 0\n",
    "    for key in data:\n",
    "        if key not in swimmer_indices:\n",
    "            swimmer_indices[key] = i\n",
    "            i += 1\n",
    "        for m in data[key]:\n",
    "            for swimmer in m.lost_to:\n",
    "                if swimmer not in swimmer_indices:\n",
    "                    swimmer_indices[swimmer] = i\n",
    "                    i += 1\n",
    "                P[swimmer_indices[swimmer]][swimmer_indices[key]] += weight_dict[m.name]\n",
    "#                 print('here')\n",
    "    print(P)\n",
    "                \n",
    "    for i in range(len(P)):\n",
    "        row = P[i]\n",
    "        total = np.sum(row)\n",
    "        for j in range(len(row)):\n",
    "            P[i][j] /= total\n",
    "    #print(P)\n",
    "\n",
    "    d = 0.85 #damping\n",
    "    eps=1.0e-5 #quadratic error\n",
    "    \n",
    "    N = P.shape[1]\n",
    "    v = np.random.rand(N, 1)\n",
    "    v = v / np.linalg.norm(v, 1)\n",
    "    last_v = np.ones((N, 1), dtype=np.float32) * 100\n",
    "    \n",
    "    while np.linalg.norm(v - last_v, 2) > eps:\n",
    "        last_v = v\n",
    "        v = d * np.matmul(P, v) + (1 - d) / N\n",
    "    return v"
   ]
  },
  {
   "cell_type": "code",
   "execution_count": 10,
   "metadata": {
    "collapsed": true
   },
   "outputs": [],
   "source": [
    "# This is for a default implementation where each edge has a weight of 1\n",
    "weight_dict = {}\n",
    "for k in data:\n",
    "    for m in data[k]:\n",
    "        if m.name not in weight_dict:\n",
    "            weight_dict[m.name] = 1"
   ]
  },
  {
   "cell_type": "code",
   "execution_count": 11,
   "metadata": {},
   "outputs": [
    {
     "name": "stdout",
     "output_type": "stream",
     "text": [
      "['FINA:_World_Cup_No_4_-_2015_Series']\n",
      "['FINA:_World_Cup_No_4_-_2015_Series', 'NAKAMURA, Katsumi', 'HE, Jianbin']\n",
      "['NAKAMURA, Katsumi', 'HE, Jianbin', 'CAO, Jiwen', 'SMITH, Daniel', 'XU, Qiheng', 'LIN, Yongqing', 'ZHANG, Qibin', 'SHI, Yang']\n"
     ]
    }
   ],
   "source": [
    "print(data['NAKAMURA, Katsumi'][0].lost_to)\n",
    "print(data['CAO, Jiwen'][0].lost_to)\n",
    "print(data['FINA:_World_Cup_No_4_-_2015_Series'][0].lost_to)\n",
    "\n"
   ]
  },
  {
   "cell_type": "code",
   "execution_count": 15,
   "metadata": {},
   "outputs": [
    {
     "name": "stdout",
     "output_type": "stream",
     "text": [
      "[[0. 1. 1. ... 0. 0. 0.]\n",
      " [1. 0. 0. ... 0. 0. 0.]\n",
      " [1. 0. 0. ... 0. 0. 0.]\n",
      " ...\n",
      " [0. 0. 0. ... 0. 0. 0.]\n",
      " [0. 0. 0. ... 0. 0. 1.]\n",
      " [0. 0. 0. ... 0. 0. 0.]]\n"
     ]
    }
   ],
   "source": [
    "rankings = PageRank(data, weight_dict)"
   ]
  },
  {
   "cell_type": "code",
   "execution_count": 25,
   "metadata": {},
   "outputs": [],
   "source": [
    "final_rankings = list(zip(data.keys(), rankings))"
   ]
  },
  {
   "cell_type": "code",
   "execution_count": 28,
   "metadata": {},
   "outputs": [],
   "source": [
    "final_rankings = [(i[0], i[1][0]) for i in final_rankings]"
   ]
  },
  {
   "cell_type": "code",
   "execution_count": 31,
   "metadata": {},
   "outputs": [
    {
     "data": {
      "text/plain": [
       "('DESPLANCHES, Jeremy', 0.00010582932356258123)"
      ]
     },
     "execution_count": 31,
     "metadata": {},
     "output_type": "execute_result"
    }
   ],
   "source": [
    "min(final_rankings, key=lambda x: x[1])"
   ]
  },
  {
   "cell_type": "code",
   "execution_count": 39,
   "metadata": {},
   "outputs": [
    {
     "data": {
      "text/plain": [
       "('BUTT, Suleman', 0.0001094260720790184)"
      ]
     },
     "execution_count": 39,
     "metadata": {},
     "output_type": "execute_result"
    }
   ],
   "source": [
    "max(final_rankings, key=lambda x: x[1])"
   ]
  },
  {
   "cell_type": "code",
   "execution_count": null,
   "metadata": {
    "collapsed": true
   },
   "outputs": [],
   "source": []
  }
 ],
 "metadata": {
  "kernelspec": {
   "display_name": "Python 3",
   "language": "python",
   "name": "python3"
  },
  "language_info": {
   "codemirror_mode": {
    "name": "ipython",
    "version": 3
   },
   "file_extension": ".py",
   "mimetype": "text/x-python",
   "name": "python",
   "nbconvert_exporter": "python",
   "pygments_lexer": "ipython3",
   "version": "3.6.8"
  }
 },
 "nbformat": 4,
 "nbformat_minor": 2
}
