{
 "cells": [
  {
   "cell_type": "markdown",
   "metadata": {},
   "source": [
    "# PageRank\n",
    "\n",
    "Albert Tang, Robert Hou, Vedaad Shakib, Franklin Ye"
   ]
  },
  {
   "cell_type": "code",
   "execution_count": 3,
   "metadata": {},
   "outputs": [],
   "source": [
    "import numpy as np\n"
   ]
  },
  {
   "cell_type": "markdown",
   "metadata": {},
   "source": [
    "Here is the PageRank algorithm.\n",
    "\n",
    "There is one modification. P is our transition matrix. Our in class notation had $P_{i, j}$ = edge from $i$ to $j$, with our invariant distribution $\\pi$ being $\\pi P = \\pi$. $\\pi$ is a row vector, but numpy handles right eigenvectors, and eigenvectors are column vectors.\n",
    "\n",
    "Oh no. What do I do???\n",
    "\n",
    "Fret not. If we take the transpose of both sides, we'll get $P^{T} \\pi^{T} = \\pi^{T}$, which corresponds to an eigenvalue of 1."
   ]
  },
  {
   "cell_type": "code",
   "execution_count": 23,
   "metadata": {},
   "outputs": [],
   "source": [
    "def PageRank(data, weight_dict):\n",
    "    \"\"\" This is our pagerank algorithm.\n",
    "    \n",
    "    Inputs:\n",
    "        data: a dictionary --\n",
    "                key: name\n",
    "                value: list of Meet objects\n",
    "        weight_dict: a dictionary --\n",
    "                key: competition name\n",
    "                value: weight of an edge corresponding to that competition\n",
    "                \n",
    "    Returns:\n",
    "        The invariant distribution.\n",
    "                \n",
    "    \"\"\"\n",
    "    P = np.zeros([len(data), len(data)])\n",
    "    swimmer_indices = {}\n",
    "    i = 0\n",
    "    for key in data:\n",
    "        if key not in swimmer_indices:\n",
    "            swimmer_indices[key] = i\n",
    "            i += 1\n",
    "        for m in data[key]:\n",
    "            for swimmer in m.lost_to:\n",
    "                if swimmer not in swimmer_indices:\n",
    "                    swimmer_indices[swimmer] = i\n",
    "                    i += 1\n",
    "                P[swimmer_indices[key]][swimmer_indices[swimmer]] += weight_dict[m.name]\n",
    "    \n",
    "    w, v = np.linalg.eig(P.T)\n",
    "    print(eigshit)\n",
    "    return v[0]"
   ]
  },
  {
   "cell_type": "code",
   "execution_count": 20,
   "metadata": {},
   "outputs": [
    {
     "name": "stdout",
     "output_type": "stream",
     "text": [
      "Albert Tang\n",
      "[(9, 23.01, 'LA City Individual'), (4, 22.76, 'LA City Relay')]\n",
      "Ray\n",
      "[(1, 10, 'Grand Prix of 126 TAs')]\n"
     ]
    }
   ],
   "source": [
    "# This is old test \n",
    "# data = {\"Albert Tang\": [(9, 23.01, \"LA City Individual\"), (4, 22.76, \"LA City Relay\")]}\n",
    "# data[\"Ray\"] = [(1, 10, \"Grand Prix of 126 TAs\")]\n",
    "# weight_dict = {\"LA City Finals\": 1, \"LA City Relay\": 5, \"Grand Prix of 126 TAs\": 6}\n",
    "PageRank(data, weight_dict)"
   ]
  },
  {
   "cell_type": "code",
   "execution_count": null,
   "metadata": {},
   "outputs": [],
   "source": []
  }
 ],
 "metadata": {
  "kernelspec": {
   "display_name": "Python 3",
   "language": "python",
   "name": "python3"
  },
  "language_info": {
   "codemirror_mode": {
    "name": "ipython",
    "version": 3
   },
   "file_extension": ".py",
   "mimetype": "text/x-python",
   "name": "python",
   "nbconvert_exporter": "python",
   "pygments_lexer": "ipython3",
   "version": "3.6.8"
  }
 },
 "nbformat": 4,
 "nbformat_minor": 2
}
